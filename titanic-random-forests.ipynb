{
 "cells": [
  {
   "cell_type": "markdown",
   "id": "3d45cb53",
   "metadata": {
    "id": "5hsRwy9H2hj7",
    "papermill": {
     "duration": 0.012083,
     "end_time": "2024-10-30T01:22:20.264561",
     "exception": false,
     "start_time": "2024-10-30T01:22:20.252478",
     "status": "completed"
    },
    "tags": []
   },
   "source": [
    "# Importando o dataset..."
   ]
  },
  {
   "cell_type": "code",
   "execution_count": 1,
   "id": "4b6635cc",
   "metadata": {
    "_kg_hide-output": true,
    "execution": {
     "iopub.execute_input": "2024-10-30T01:22:20.290090Z",
     "iopub.status.busy": "2024-10-30T01:22:20.289492Z",
     "iopub.status.idle": "2024-10-30T01:22:24.395929Z",
     "shell.execute_reply": "2024-10-30T01:22:24.394564Z"
    },
    "id": "YyMGV0-usoak",
    "outputId": "de5f395b-873b-456b-ff28-92a3e5930218",
    "papermill": {
     "duration": 4.131255,
     "end_time": "2024-10-30T01:22:24.407495",
     "exception": false,
     "start_time": "2024-10-30T01:22:20.276240",
     "status": "completed"
    },
    "tags": []
   },
   "outputs": [
    {
     "data": {
      "application/vnd.jupyter.widget-view+json": {
       "model_id": "d9d81badf7b247ebb554258597b0ce50",
       "version_major": 2,
       "version_minor": 0
      },
      "text/plain": [
       "VBox(children=(HTML(value='<center> <img\\nsrc=https://www.kaggle.com/static/images/site-logo.png\\nalt=\\'Kaggle…"
      ]
     },
     "metadata": {},
     "output_type": "display_data"
    }
   ],
   "source": [
    "import kagglehub\n",
    "import pandas as pd\n",
    "from sklearn.model_selection import train_test_split\n",
    "from sklearn.ensemble import RandomForestClassifier\n",
    "from sklearn.metrics import classification_report, accuracy_score\n",
    "import os\n",
    "\n",
    "kagglehub.login()\n"
   ]
  },
  {
   "cell_type": "code",
   "execution_count": 2,
   "id": "40bcfe29",
   "metadata": {
    "execution": {
     "iopub.execute_input": "2024-10-30T01:22:24.437200Z",
     "iopub.status.busy": "2024-10-30T01:22:24.436519Z",
     "iopub.status.idle": "2024-10-30T01:22:24.535364Z",
     "shell.execute_reply": "2024-10-30T01:22:24.534160Z"
    },
    "id": "bEqePSBEsoak",
    "outputId": "035262fa-e21a-45ae-b5ae-c192feca81ef",
    "papermill": {
     "duration": 0.115623,
     "end_time": "2024-10-30T01:22:24.538299",
     "exception": false,
     "start_time": "2024-10-30T01:22:24.422676",
     "status": "completed"
    },
    "tags": []
   },
   "outputs": [
    {
     "name": "stdout",
     "output_type": "stream",
     "text": [
      "Data source import complete.\n"
     ]
    }
   ],
   "source": [
    "titanic_path = kagglehub.competition_download('titanic')\n",
    "\n",
    "print('Data source import complete.')\n"
   ]
  },
  {
   "cell_type": "code",
   "execution_count": 3,
   "id": "308833a2",
   "metadata": {
    "_cell_guid": "b1076dfc-b9ad-4769-8c92-a6c4dae69d19",
    "_uuid": "8f2839f25d086af736a60e9eeb907d3b93b6e0e5",
    "execution": {
     "iopub.execute_input": "2024-10-30T01:22:24.564474Z",
     "iopub.status.busy": "2024-10-30T01:22:24.564042Z",
     "iopub.status.idle": "2024-10-30T01:22:24.611253Z",
     "shell.execute_reply": "2024-10-30T01:22:24.609760Z"
    },
    "id": "2j9jVmnvsoal",
    "papermill": {
     "duration": 0.063776,
     "end_time": "2024-10-30T01:22:24.614336",
     "exception": false,
     "start_time": "2024-10-30T01:22:24.550560",
     "status": "completed"
    },
    "tags": []
   },
   "outputs": [],
   "source": [
    "train_csv_path = os.path.join(titanic_path, \"train.csv\")\n",
    "test_csv_path = os.path.join(titanic_path, \"test.csv\")\n",
    "df_train = pd.read_csv(train_csv_path)\n",
    "df_test = pd.read_csv(test_csv_path)\n",
    "\n",
    "passenger_ids = df_test['PassengerId']"
   ]
  },
  {
   "cell_type": "markdown",
   "id": "84489f4e",
   "metadata": {
    "id": "GsC4rjv44NFE",
    "papermill": {
     "duration": 0.011678,
     "end_time": "2024-10-30T01:22:24.640068",
     "exception": false,
     "start_time": "2024-10-30T01:22:24.628390",
     "status": "completed"
    },
    "tags": []
   },
   "source": [
    "***Dataset* antes do pré-processamento:**"
   ]
  },
  {
   "cell_type": "code",
   "execution_count": 4,
   "id": "5469841a",
   "metadata": {
    "execution": {
     "iopub.execute_input": "2024-10-30T01:22:24.666153Z",
     "iopub.status.busy": "2024-10-30T01:22:24.665697Z",
     "iopub.status.idle": "2024-10-30T01:22:24.694003Z",
     "shell.execute_reply": "2024-10-30T01:22:24.692469Z"
    },
    "id": "0yh2GI-M4Rk7",
    "outputId": "08d88fdd-8509-430d-a881-517246026278",
    "papermill": {
     "duration": 0.044441,
     "end_time": "2024-10-30T01:22:24.696730",
     "exception": false,
     "start_time": "2024-10-30T01:22:24.652289",
     "status": "completed"
    },
    "tags": []
   },
   "outputs": [
    {
     "data": {
      "text/html": [
       "<div>\n",
       "<style scoped>\n",
       "    .dataframe tbody tr th:only-of-type {\n",
       "        vertical-align: middle;\n",
       "    }\n",
       "\n",
       "    .dataframe tbody tr th {\n",
       "        vertical-align: top;\n",
       "    }\n",
       "\n",
       "    .dataframe thead th {\n",
       "        text-align: right;\n",
       "    }\n",
       "</style>\n",
       "<table border=\"1\" class=\"dataframe\">\n",
       "  <thead>\n",
       "    <tr style=\"text-align: right;\">\n",
       "      <th></th>\n",
       "      <th>PassengerId</th>\n",
       "      <th>Survived</th>\n",
       "      <th>Pclass</th>\n",
       "      <th>Name</th>\n",
       "      <th>Sex</th>\n",
       "      <th>Age</th>\n",
       "      <th>SibSp</th>\n",
       "      <th>Parch</th>\n",
       "      <th>Ticket</th>\n",
       "      <th>Fare</th>\n",
       "      <th>Cabin</th>\n",
       "      <th>Embarked</th>\n",
       "    </tr>\n",
       "  </thead>\n",
       "  <tbody>\n",
       "    <tr>\n",
       "      <th>0</th>\n",
       "      <td>1</td>\n",
       "      <td>0</td>\n",
       "      <td>3</td>\n",
       "      <td>Braund, Mr. Owen Harris</td>\n",
       "      <td>male</td>\n",
       "      <td>22.0</td>\n",
       "      <td>1</td>\n",
       "      <td>0</td>\n",
       "      <td>A/5 21171</td>\n",
       "      <td>7.2500</td>\n",
       "      <td>NaN</td>\n",
       "      <td>S</td>\n",
       "    </tr>\n",
       "    <tr>\n",
       "      <th>1</th>\n",
       "      <td>2</td>\n",
       "      <td>1</td>\n",
       "      <td>1</td>\n",
       "      <td>Cumings, Mrs. John Bradley (Florence Briggs Th...</td>\n",
       "      <td>female</td>\n",
       "      <td>38.0</td>\n",
       "      <td>1</td>\n",
       "      <td>0</td>\n",
       "      <td>PC 17599</td>\n",
       "      <td>71.2833</td>\n",
       "      <td>C85</td>\n",
       "      <td>C</td>\n",
       "    </tr>\n",
       "    <tr>\n",
       "      <th>2</th>\n",
       "      <td>3</td>\n",
       "      <td>1</td>\n",
       "      <td>3</td>\n",
       "      <td>Heikkinen, Miss. Laina</td>\n",
       "      <td>female</td>\n",
       "      <td>26.0</td>\n",
       "      <td>0</td>\n",
       "      <td>0</td>\n",
       "      <td>STON/O2. 3101282</td>\n",
       "      <td>7.9250</td>\n",
       "      <td>NaN</td>\n",
       "      <td>S</td>\n",
       "    </tr>\n",
       "    <tr>\n",
       "      <th>3</th>\n",
       "      <td>4</td>\n",
       "      <td>1</td>\n",
       "      <td>1</td>\n",
       "      <td>Futrelle, Mrs. Jacques Heath (Lily May Peel)</td>\n",
       "      <td>female</td>\n",
       "      <td>35.0</td>\n",
       "      <td>1</td>\n",
       "      <td>0</td>\n",
       "      <td>113803</td>\n",
       "      <td>53.1000</td>\n",
       "      <td>C123</td>\n",
       "      <td>S</td>\n",
       "    </tr>\n",
       "    <tr>\n",
       "      <th>4</th>\n",
       "      <td>5</td>\n",
       "      <td>0</td>\n",
       "      <td>3</td>\n",
       "      <td>Allen, Mr. William Henry</td>\n",
       "      <td>male</td>\n",
       "      <td>35.0</td>\n",
       "      <td>0</td>\n",
       "      <td>0</td>\n",
       "      <td>373450</td>\n",
       "      <td>8.0500</td>\n",
       "      <td>NaN</td>\n",
       "      <td>S</td>\n",
       "    </tr>\n",
       "  </tbody>\n",
       "</table>\n",
       "</div>"
      ],
      "text/plain": [
       "   PassengerId  Survived  Pclass  \\\n",
       "0            1         0       3   \n",
       "1            2         1       1   \n",
       "2            3         1       3   \n",
       "3            4         1       1   \n",
       "4            5         0       3   \n",
       "\n",
       "                                                Name     Sex   Age  SibSp  \\\n",
       "0                            Braund, Mr. Owen Harris    male  22.0      1   \n",
       "1  Cumings, Mrs. John Bradley (Florence Briggs Th...  female  38.0      1   \n",
       "2                             Heikkinen, Miss. Laina  female  26.0      0   \n",
       "3       Futrelle, Mrs. Jacques Heath (Lily May Peel)  female  35.0      1   \n",
       "4                           Allen, Mr. William Henry    male  35.0      0   \n",
       "\n",
       "   Parch            Ticket     Fare Cabin Embarked  \n",
       "0      0         A/5 21171   7.2500   NaN        S  \n",
       "1      0          PC 17599  71.2833   C85        C  \n",
       "2      0  STON/O2. 3101282   7.9250   NaN        S  \n",
       "3      0            113803  53.1000  C123        S  \n",
       "4      0            373450   8.0500   NaN        S  "
      ]
     },
     "execution_count": 4,
     "metadata": {},
     "output_type": "execute_result"
    }
   ],
   "source": [
    "df_train.head()"
   ]
  },
  {
   "cell_type": "markdown",
   "id": "c306a879",
   "metadata": {
    "id": "cLKxfaHn2kfR",
    "papermill": {
     "duration": 0.012653,
     "end_time": "2024-10-30T01:22:24.722089",
     "exception": false,
     "start_time": "2024-10-30T01:22:24.709436",
     "status": "completed"
    },
    "tags": []
   },
   "source": [
    "# Pré-processamento dos dados\n",
    "\n",
    "Inicialmente, irei retirar colunas indesejadas, além de trocar valores nulos pela média geral daquele atributo. Assim, caso não saibamos se alguém tinha irmãos a bordo, por exemplo, iremos \"chutar\" a partir da média geral dos outros passageiros."
   ]
  },
  {
   "cell_type": "code",
   "execution_count": 5,
   "id": "e4a32d11",
   "metadata": {
    "execution": {
     "iopub.execute_input": "2024-10-30T01:22:24.751083Z",
     "iopub.status.busy": "2024-10-30T01:22:24.749358Z",
     "iopub.status.idle": "2024-10-30T01:22:24.777483Z",
     "shell.execute_reply": "2024-10-30T01:22:24.775577Z"
    },
    "id": "9Lr3dUfKuAga",
    "papermill": {
     "duration": 0.046714,
     "end_time": "2024-10-30T01:22:24.781831",
     "exception": false,
     "start_time": "2024-10-30T01:22:24.735117",
     "status": "completed"
    },
    "tags": []
   },
   "outputs": [],
   "source": [
    "df_train = df_train.drop(columns = [\"Ticket\", \"PassengerId\", \"Name\"])\n",
    "df_test = df_test.drop(columns = [\"Ticket\", \"Name\"])\n",
    "\n",
    "# Substituir NaN pela média nas colunas \"SibSp\" e \"Parch\"\n",
    "df_train.fillna(df_train[\"SibSp\"].mean(), inplace=True)\n",
    "df_train.fillna(df_train[\"Parch\"].mean(), inplace=True)\n",
    "\n",
    "df_test.fillna(df_test[\"SibSp\"].mean(), inplace=True)\n",
    "df_test.fillna(df_test[\"Parch\"].mean(), inplace=True)"
   ]
  },
  {
   "cell_type": "markdown",
   "id": "b977d221",
   "metadata": {
    "id": "1FaP1a_y26qp",
    "papermill": {
     "duration": 0.017488,
     "end_time": "2024-10-30T01:22:24.813459",
     "exception": false,
     "start_time": "2024-10-30T01:22:24.795971",
     "status": "completed"
    },
    "tags": []
   },
   "source": [
    "Depois, irei unificar os dados envolvendo a quantidade de parentes que cada náufrago tinha a bordo do navio em uma só coluna e excluir as colunas que geraram essa coluna unificada."
   ]
  },
  {
   "cell_type": "code",
   "execution_count": 6,
   "id": "65140fb3",
   "metadata": {
    "execution": {
     "iopub.execute_input": "2024-10-30T01:22:24.845334Z",
     "iopub.status.busy": "2024-10-30T01:22:24.843777Z",
     "iopub.status.idle": "2024-10-30T01:22:24.856003Z",
     "shell.execute_reply": "2024-10-30T01:22:24.854203Z"
    },
    "id": "DZjyQljq3T1e",
    "papermill": {
     "duration": 0.029154,
     "end_time": "2024-10-30T01:22:24.858742",
     "exception": false,
     "start_time": "2024-10-30T01:22:24.829588",
     "status": "completed"
    },
    "tags": []
   },
   "outputs": [],
   "source": [
    "# Nova coluna com a soma de todos os parentes no navio\n",
    "df_train[\"FamilyAboard\"] = df_train[\"SibSp\"] + df_train[\"Parch\"]\n",
    "df_test[\"FamilyAboard\"] = df_test[\"SibSp\"] + df_test[\"Parch\"]\n",
    "\n",
    "# Exclui as colunas usadas para formar a tabela anteriormente citada\n",
    "df_train = df_train.drop(columns = [\"SibSp\", \"Parch\"])\n",
    "df_test = df_test.drop(columns = [\"SibSp\", \"Parch\"])"
   ]
  },
  {
   "cell_type": "markdown",
   "id": "95a76060",
   "metadata": {
    "id": "iFKK1J_u3Vwi",
    "papermill": {
     "duration": 0.012319,
     "end_time": "2024-10-30T01:22:24.884182",
     "exception": false,
     "start_time": "2024-10-30T01:22:24.871863",
     "status": "completed"
    },
    "tags": []
   },
   "source": [
    "Agora irei fazer a codificação de variáveis categóricas, a fim de facilitar meu trabalho ao montar o modelo preditivo."
   ]
  },
  {
   "cell_type": "code",
   "execution_count": 7,
   "id": "f5f70a39",
   "metadata": {
    "execution": {
     "iopub.execute_input": "2024-10-30T01:22:24.914434Z",
     "iopub.status.busy": "2024-10-30T01:22:24.913875Z",
     "iopub.status.idle": "2024-10-30T01:22:24.952204Z",
     "shell.execute_reply": "2024-10-30T01:22:24.950245Z"
    },
    "id": "748uk_2hz1zg",
    "papermill": {
     "duration": 0.058735,
     "end_time": "2024-10-30T01:22:24.955506",
     "exception": false,
     "start_time": "2024-10-30T01:22:24.896771",
     "status": "completed"
    },
    "tags": []
   },
   "outputs": [],
   "source": [
    "# One-hot encoding\n",
    "df_train = pd.get_dummies(df_train, columns=['Embarked', 'Cabin', 'Pclass'], drop_first=True)\n",
    "df_train['Sex'] = df_train['Sex'].map({'male': 0, 'female': 1})\n",
    "\n",
    "df_test = pd.get_dummies(df_test, columns=['Embarked', 'Cabin', 'Pclass'], drop_first=True)\n",
    "df_test['Sex'] = df_test['Sex'].map({'male': 0, 'female': 1})"
   ]
  },
  {
   "cell_type": "markdown",
   "id": "fa9e479b",
   "metadata": {
    "id": "a2bR_w_m3eNt",
    "papermill": {
     "duration": 0.020959,
     "end_time": "2024-10-30T01:22:24.998011",
     "exception": false,
     "start_time": "2024-10-30T01:22:24.977052",
     "status": "completed"
    },
    "tags": []
   },
   "source": [
    "Para garantir que o modelo Random Forest (que será utilizado a seguir) funcione de maneira eficaz, é essencial realizar a normalização dos dados numéricos e o codificação das variáveis categóricas. Isso evita que variáveis com escalas maiores, como \"Fare\", influenciem indevidamente o desempenho do modelo em comparação com variáveis menores, como \"Age\"."
   ]
  },
  {
   "cell_type": "code",
   "execution_count": 8,
   "id": "acec8763",
   "metadata": {
    "execution": {
     "iopub.execute_input": "2024-10-30T01:22:25.035707Z",
     "iopub.status.busy": "2024-10-30T01:22:25.035069Z",
     "iopub.status.idle": "2024-10-30T01:22:25.054268Z",
     "shell.execute_reply": "2024-10-30T01:22:25.052352Z"
    },
    "id": "H7CedHwA19Y6",
    "papermill": {
     "duration": 0.041563,
     "end_time": "2024-10-30T01:22:25.058632",
     "exception": false,
     "start_time": "2024-10-30T01:22:25.017069",
     "status": "completed"
    },
    "tags": []
   },
   "outputs": [],
   "source": [
    "from sklearn.preprocessing import MinMaxScaler\n",
    "\n",
    "scaler = MinMaxScaler()\n",
    "\n",
    "df_train[['Age', 'Fare']] = scaler.fit_transform(df_train[['Age', 'Fare']])\n",
    "\n",
    "df_test[['Age', 'Fare']] = scaler.transform(df_test[['Age', 'Fare']])"
   ]
  },
  {
   "cell_type": "markdown",
   "id": "023522a6",
   "metadata": {
    "id": "-u2CJKsc4T8w",
    "papermill": {
     "duration": 0.012597,
     "end_time": "2024-10-30T01:22:25.084257",
     "exception": false,
     "start_time": "2024-10-30T01:22:25.071660",
     "status": "completed"
    },
    "tags": []
   },
   "source": [
    "***Dataset* após o pré-processamento:**"
   ]
  },
  {
   "cell_type": "code",
   "execution_count": 9,
   "id": "576e19f1",
   "metadata": {
    "execution": {
     "iopub.execute_input": "2024-10-30T01:22:25.111433Z",
     "iopub.status.busy": "2024-10-30T01:22:25.111020Z",
     "iopub.status.idle": "2024-10-30T01:22:25.144941Z",
     "shell.execute_reply": "2024-10-30T01:22:25.142664Z"
    },
    "id": "-CHhLmpm2Bf5",
    "outputId": "7928ab8b-b34d-4834-8176-dd79b5f4e097",
    "papermill": {
     "duration": 0.052511,
     "end_time": "2024-10-30T01:22:25.149518",
     "exception": false,
     "start_time": "2024-10-30T01:22:25.097007",
     "status": "completed"
    },
    "tags": []
   },
   "outputs": [
    {
     "data": {
      "text/html": [
       "<div>\n",
       "<style scoped>\n",
       "    .dataframe tbody tr th:only-of-type {\n",
       "        vertical-align: middle;\n",
       "    }\n",
       "\n",
       "    .dataframe tbody tr th {\n",
       "        vertical-align: top;\n",
       "    }\n",
       "\n",
       "    .dataframe thead th {\n",
       "        text-align: right;\n",
       "    }\n",
       "</style>\n",
       "<table border=\"1\" class=\"dataframe\">\n",
       "  <thead>\n",
       "    <tr style=\"text-align: right;\">\n",
       "      <th></th>\n",
       "      <th>Survived</th>\n",
       "      <th>Sex</th>\n",
       "      <th>Age</th>\n",
       "      <th>Fare</th>\n",
       "      <th>FamilyAboard</th>\n",
       "      <th>Embarked_C</th>\n",
       "      <th>Embarked_Q</th>\n",
       "      <th>Embarked_S</th>\n",
       "      <th>Cabin_A10</th>\n",
       "      <th>Cabin_A14</th>\n",
       "      <th>...</th>\n",
       "      <th>Cabin_F G63</th>\n",
       "      <th>Cabin_F G73</th>\n",
       "      <th>Cabin_F2</th>\n",
       "      <th>Cabin_F33</th>\n",
       "      <th>Cabin_F38</th>\n",
       "      <th>Cabin_F4</th>\n",
       "      <th>Cabin_G6</th>\n",
       "      <th>Cabin_T</th>\n",
       "      <th>Pclass_2</th>\n",
       "      <th>Pclass_3</th>\n",
       "    </tr>\n",
       "  </thead>\n",
       "  <tbody>\n",
       "    <tr>\n",
       "      <th>0</th>\n",
       "      <td>0</td>\n",
       "      <td>0</td>\n",
       "      <td>0.271174</td>\n",
       "      <td>0.014151</td>\n",
       "      <td>1</td>\n",
       "      <td>False</td>\n",
       "      <td>False</td>\n",
       "      <td>True</td>\n",
       "      <td>False</td>\n",
       "      <td>False</td>\n",
       "      <td>...</td>\n",
       "      <td>False</td>\n",
       "      <td>False</td>\n",
       "      <td>False</td>\n",
       "      <td>False</td>\n",
       "      <td>False</td>\n",
       "      <td>False</td>\n",
       "      <td>False</td>\n",
       "      <td>False</td>\n",
       "      <td>False</td>\n",
       "      <td>True</td>\n",
       "    </tr>\n",
       "    <tr>\n",
       "      <th>1</th>\n",
       "      <td>1</td>\n",
       "      <td>1</td>\n",
       "      <td>0.472229</td>\n",
       "      <td>0.139136</td>\n",
       "      <td>1</td>\n",
       "      <td>True</td>\n",
       "      <td>False</td>\n",
       "      <td>False</td>\n",
       "      <td>False</td>\n",
       "      <td>False</td>\n",
       "      <td>...</td>\n",
       "      <td>False</td>\n",
       "      <td>False</td>\n",
       "      <td>False</td>\n",
       "      <td>False</td>\n",
       "      <td>False</td>\n",
       "      <td>False</td>\n",
       "      <td>False</td>\n",
       "      <td>False</td>\n",
       "      <td>False</td>\n",
       "      <td>False</td>\n",
       "    </tr>\n",
       "    <tr>\n",
       "      <th>2</th>\n",
       "      <td>1</td>\n",
       "      <td>1</td>\n",
       "      <td>0.321438</td>\n",
       "      <td>0.015469</td>\n",
       "      <td>0</td>\n",
       "      <td>False</td>\n",
       "      <td>False</td>\n",
       "      <td>True</td>\n",
       "      <td>False</td>\n",
       "      <td>False</td>\n",
       "      <td>...</td>\n",
       "      <td>False</td>\n",
       "      <td>False</td>\n",
       "      <td>False</td>\n",
       "      <td>False</td>\n",
       "      <td>False</td>\n",
       "      <td>False</td>\n",
       "      <td>False</td>\n",
       "      <td>False</td>\n",
       "      <td>False</td>\n",
       "      <td>True</td>\n",
       "    </tr>\n",
       "    <tr>\n",
       "      <th>3</th>\n",
       "      <td>1</td>\n",
       "      <td>1</td>\n",
       "      <td>0.434531</td>\n",
       "      <td>0.103644</td>\n",
       "      <td>1</td>\n",
       "      <td>False</td>\n",
       "      <td>False</td>\n",
       "      <td>True</td>\n",
       "      <td>False</td>\n",
       "      <td>False</td>\n",
       "      <td>...</td>\n",
       "      <td>False</td>\n",
       "      <td>False</td>\n",
       "      <td>False</td>\n",
       "      <td>False</td>\n",
       "      <td>False</td>\n",
       "      <td>False</td>\n",
       "      <td>False</td>\n",
       "      <td>False</td>\n",
       "      <td>False</td>\n",
       "      <td>False</td>\n",
       "    </tr>\n",
       "    <tr>\n",
       "      <th>4</th>\n",
       "      <td>0</td>\n",
       "      <td>0</td>\n",
       "      <td>0.434531</td>\n",
       "      <td>0.015713</td>\n",
       "      <td>0</td>\n",
       "      <td>False</td>\n",
       "      <td>False</td>\n",
       "      <td>True</td>\n",
       "      <td>False</td>\n",
       "      <td>False</td>\n",
       "      <td>...</td>\n",
       "      <td>False</td>\n",
       "      <td>False</td>\n",
       "      <td>False</td>\n",
       "      <td>False</td>\n",
       "      <td>False</td>\n",
       "      <td>False</td>\n",
       "      <td>False</td>\n",
       "      <td>False</td>\n",
       "      <td>False</td>\n",
       "      <td>True</td>\n",
       "    </tr>\n",
       "  </tbody>\n",
       "</table>\n",
       "<p>5 rows × 157 columns</p>\n",
       "</div>"
      ],
      "text/plain": [
       "   Survived  Sex       Age      Fare  FamilyAboard  Embarked_C  Embarked_Q  \\\n",
       "0         0    0  0.271174  0.014151             1       False       False   \n",
       "1         1    1  0.472229  0.139136             1        True       False   \n",
       "2         1    1  0.321438  0.015469             0       False       False   \n",
       "3         1    1  0.434531  0.103644             1       False       False   \n",
       "4         0    0  0.434531  0.015713             0       False       False   \n",
       "\n",
       "   Embarked_S  Cabin_A10  Cabin_A14  ...  Cabin_F G63  Cabin_F G73  Cabin_F2  \\\n",
       "0        True      False      False  ...        False        False     False   \n",
       "1       False      False      False  ...        False        False     False   \n",
       "2        True      False      False  ...        False        False     False   \n",
       "3        True      False      False  ...        False        False     False   \n",
       "4        True      False      False  ...        False        False     False   \n",
       "\n",
       "   Cabin_F33  Cabin_F38  Cabin_F4  Cabin_G6  Cabin_T  Pclass_2  Pclass_3  \n",
       "0      False      False     False     False    False     False      True  \n",
       "1      False      False     False     False    False     False     False  \n",
       "2      False      False     False     False    False     False      True  \n",
       "3      False      False     False     False    False     False     False  \n",
       "4      False      False     False     False    False     False      True  \n",
       "\n",
       "[5 rows x 157 columns]"
      ]
     },
     "execution_count": 9,
     "metadata": {},
     "output_type": "execute_result"
    }
   ],
   "source": [
    "df_train.head()"
   ]
  },
  {
   "cell_type": "markdown",
   "id": "5da4a5fd",
   "metadata": {
    "id": "_pWIWipT4ilr",
    "papermill": {
     "duration": 0.015468,
     "end_time": "2024-10-30T01:22:25.182657",
     "exception": false,
     "start_time": "2024-10-30T01:22:25.167189",
     "status": "completed"
    },
    "tags": []
   },
   "source": [
    "# Configuração do modelo...\n",
    "\n",
    "Primeiramente, vamos escolher o tamanho do nosso teste interno, bem como o quão randômica será essa divisão."
   ]
  },
  {
   "cell_type": "code",
   "execution_count": 10,
   "id": "e5b70e39",
   "metadata": {
    "execution": {
     "iopub.execute_input": "2024-10-30T01:22:25.214665Z",
     "iopub.status.busy": "2024-10-30T01:22:25.214132Z",
     "iopub.status.idle": "2024-10-30T01:22:25.233538Z",
     "shell.execute_reply": "2024-10-30T01:22:25.231962Z"
    },
    "id": "aIANjbxV4lkq",
    "papermill": {
     "duration": 0.039129,
     "end_time": "2024-10-30T01:22:25.236567",
     "exception": false,
     "start_time": "2024-10-30T01:22:25.197438",
     "status": "completed"
    },
    "tags": []
   },
   "outputs": [],
   "source": [
    "X = df_train.drop(columns=['Survived'])\n",
    "y = df_train['Survived']\n",
    "\n",
    "X_train, X_val, y_train, y_val = train_test_split(X, y, test_size=0.2, random_state=42)"
   ]
  },
  {
   "cell_type": "code",
   "execution_count": 11,
   "id": "1c747423",
   "metadata": {
    "execution": {
     "iopub.execute_input": "2024-10-30T01:22:25.265342Z",
     "iopub.status.busy": "2024-10-30T01:22:25.264858Z",
     "iopub.status.idle": "2024-10-30T01:22:25.630829Z",
     "shell.execute_reply": "2024-10-30T01:22:25.629473Z"
    },
    "id": "V5mHp6HJ6LII",
    "outputId": "a97e61af-83c5-4cad-8f34-24360e6b4588",
    "papermill": {
     "duration": 0.383942,
     "end_time": "2024-10-30T01:22:25.633746",
     "exception": false,
     "start_time": "2024-10-30T01:22:25.249804",
     "status": "completed"
    },
    "tags": []
   },
   "outputs": [
    {
     "data": {
      "text/html": [
       "<style>#sk-container-id-1 {color: black;background-color: white;}#sk-container-id-1 pre{padding: 0;}#sk-container-id-1 div.sk-toggleable {background-color: white;}#sk-container-id-1 label.sk-toggleable__label {cursor: pointer;display: block;width: 100%;margin-bottom: 0;padding: 0.3em;box-sizing: border-box;text-align: center;}#sk-container-id-1 label.sk-toggleable__label-arrow:before {content: \"▸\";float: left;margin-right: 0.25em;color: #696969;}#sk-container-id-1 label.sk-toggleable__label-arrow:hover:before {color: black;}#sk-container-id-1 div.sk-estimator:hover label.sk-toggleable__label-arrow:before {color: black;}#sk-container-id-1 div.sk-toggleable__content {max-height: 0;max-width: 0;overflow: hidden;text-align: left;background-color: #f0f8ff;}#sk-container-id-1 div.sk-toggleable__content pre {margin: 0.2em;color: black;border-radius: 0.25em;background-color: #f0f8ff;}#sk-container-id-1 input.sk-toggleable__control:checked~div.sk-toggleable__content {max-height: 200px;max-width: 100%;overflow: auto;}#sk-container-id-1 input.sk-toggleable__control:checked~label.sk-toggleable__label-arrow:before {content: \"▾\";}#sk-container-id-1 div.sk-estimator input.sk-toggleable__control:checked~label.sk-toggleable__label {background-color: #d4ebff;}#sk-container-id-1 div.sk-label input.sk-toggleable__control:checked~label.sk-toggleable__label {background-color: #d4ebff;}#sk-container-id-1 input.sk-hidden--visually {border: 0;clip: rect(1px 1px 1px 1px);clip: rect(1px, 1px, 1px, 1px);height: 1px;margin: -1px;overflow: hidden;padding: 0;position: absolute;width: 1px;}#sk-container-id-1 div.sk-estimator {font-family: monospace;background-color: #f0f8ff;border: 1px dotted black;border-radius: 0.25em;box-sizing: border-box;margin-bottom: 0.5em;}#sk-container-id-1 div.sk-estimator:hover {background-color: #d4ebff;}#sk-container-id-1 div.sk-parallel-item::after {content: \"\";width: 100%;border-bottom: 1px solid gray;flex-grow: 1;}#sk-container-id-1 div.sk-label:hover label.sk-toggleable__label {background-color: #d4ebff;}#sk-container-id-1 div.sk-serial::before {content: \"\";position: absolute;border-left: 1px solid gray;box-sizing: border-box;top: 0;bottom: 0;left: 50%;z-index: 0;}#sk-container-id-1 div.sk-serial {display: flex;flex-direction: column;align-items: center;background-color: white;padding-right: 0.2em;padding-left: 0.2em;position: relative;}#sk-container-id-1 div.sk-item {position: relative;z-index: 1;}#sk-container-id-1 div.sk-parallel {display: flex;align-items: stretch;justify-content: center;background-color: white;position: relative;}#sk-container-id-1 div.sk-item::before, #sk-container-id-1 div.sk-parallel-item::before {content: \"\";position: absolute;border-left: 1px solid gray;box-sizing: border-box;top: 0;bottom: 0;left: 50%;z-index: -1;}#sk-container-id-1 div.sk-parallel-item {display: flex;flex-direction: column;z-index: 1;position: relative;background-color: white;}#sk-container-id-1 div.sk-parallel-item:first-child::after {align-self: flex-end;width: 50%;}#sk-container-id-1 div.sk-parallel-item:last-child::after {align-self: flex-start;width: 50%;}#sk-container-id-1 div.sk-parallel-item:only-child::after {width: 0;}#sk-container-id-1 div.sk-dashed-wrapped {border: 1px dashed gray;margin: 0 0.4em 0.5em 0.4em;box-sizing: border-box;padding-bottom: 0.4em;background-color: white;}#sk-container-id-1 div.sk-label label {font-family: monospace;font-weight: bold;display: inline-block;line-height: 1.2em;}#sk-container-id-1 div.sk-label-container {text-align: center;}#sk-container-id-1 div.sk-container {/* jupyter's `normalize.less` sets `[hidden] { display: none; }` but bootstrap.min.css set `[hidden] { display: none !important; }` so we also need the `!important` here to be able to override the default hidden behavior on the sphinx rendered scikit-learn.org. See: https://github.com/scikit-learn/scikit-learn/issues/21755 */display: inline-block !important;position: relative;}#sk-container-id-1 div.sk-text-repr-fallback {display: none;}</style><div id=\"sk-container-id-1\" class=\"sk-top-container\"><div class=\"sk-text-repr-fallback\"><pre>RandomForestClassifier(random_state=42)</pre><b>In a Jupyter environment, please rerun this cell to show the HTML representation or trust the notebook. <br />On GitHub, the HTML representation is unable to render, please try loading this page with nbviewer.org.</b></div><div class=\"sk-container\" hidden><div class=\"sk-item\"><div class=\"sk-estimator sk-toggleable\"><input class=\"sk-toggleable__control sk-hidden--visually\" id=\"sk-estimator-id-1\" type=\"checkbox\" checked><label for=\"sk-estimator-id-1\" class=\"sk-toggleable__label sk-toggleable__label-arrow\">RandomForestClassifier</label><div class=\"sk-toggleable__content\"><pre>RandomForestClassifier(random_state=42)</pre></div></div></div></div></div>"
      ],
      "text/plain": [
       "RandomForestClassifier(random_state=42)"
      ]
     },
     "execution_count": 11,
     "metadata": {},
     "output_type": "execute_result"
    }
   ],
   "source": [
    "model = RandomForestClassifier(n_estimators=100, random_state=42)\n",
    "model.fit(X_train, y_train)"
   ]
  },
  {
   "cell_type": "code",
   "execution_count": 12,
   "id": "be4518a6",
   "metadata": {
    "execution": {
     "iopub.execute_input": "2024-10-30T01:22:25.665182Z",
     "iopub.status.busy": "2024-10-30T01:22:25.664684Z",
     "iopub.status.idle": "2024-10-30T01:22:25.702107Z",
     "shell.execute_reply": "2024-10-30T01:22:25.700605Z"
    },
    "id": "QKA5ftqf6Sdh",
    "outputId": "8055f4bd-fc50-446e-e5e8-52c026989fe2",
    "papermill": {
     "duration": 0.057289,
     "end_time": "2024-10-30T01:22:25.704825",
     "exception": false,
     "start_time": "2024-10-30T01:22:25.647536",
     "status": "completed"
    },
    "tags": []
   },
   "outputs": [
    {
     "name": "stdout",
     "output_type": "stream",
     "text": [
      "0.8100558659217877\n",
      "              precision    recall  f1-score   support\n",
      "\n",
      "           0       0.80      0.90      0.85       105\n",
      "           1       0.83      0.68      0.75        74\n",
      "\n",
      "    accuracy                           0.81       179\n",
      "   macro avg       0.82      0.79      0.80       179\n",
      "weighted avg       0.81      0.81      0.81       179\n",
      "\n"
     ]
    }
   ],
   "source": [
    "y_pred = model.predict(X_val)\n",
    "print(accuracy_score(y_val, y_pred))\n",
    "print(classification_report(y_val, y_pred))"
   ]
  },
  {
   "cell_type": "code",
   "execution_count": 13,
   "id": "5b87ce02",
   "metadata": {
    "execution": {
     "iopub.execute_input": "2024-10-30T01:22:25.735649Z",
     "iopub.status.busy": "2024-10-30T01:22:25.735207Z",
     "iopub.status.idle": "2024-10-30T01:22:25.769621Z",
     "shell.execute_reply": "2024-10-30T01:22:25.768093Z"
    },
    "id": "e_nGAy6P6cgb",
    "papermill": {
     "duration": 0.053589,
     "end_time": "2024-10-30T01:22:25.772945",
     "exception": false,
     "start_time": "2024-10-30T01:22:25.719356",
     "status": "completed"
    },
    "tags": []
   },
   "outputs": [],
   "source": [
    "# Reindexar df_test sem PassengerId\n",
    "df_test = df_test.reindex(columns=df_train.columns.drop('Survived').tolist(), fill_value=0)\n",
    "\n",
    "y_test_pred = model.predict(df_test)\n",
    "\n",
    "# Adicionar PassengerId de volta\n",
    "df_test['PassengerId'] = passenger_ids\n",
    "\n",
    "# Criação do DataFrame de submissão\n",
    "submission_df = pd.DataFrame({\n",
    "    'PassengerId': df_test['PassengerId'],\n",
    "    'Survived': y_test_pred\n",
    "})\n",
    "\n",
    "submission_df.to_csv('submission.csv', index=False)"
   ]
  }
 ],
 "metadata": {
  "colab": {
   "name": "notebook5a3e22fd09",
   "provenance": []
  },
  "kaggle": {
   "accelerator": "none",
   "dataSources": [
    {
     "databundleVersionId": 26502,
     "sourceId": 3136,
     "sourceType": "competition"
    }
   ],
   "isGpuEnabled": false,
   "isInternetEnabled": true,
   "language": "python",
   "sourceType": "notebook"
  },
  "kernelspec": {
   "display_name": "Python 3",
   "language": "python",
   "name": "python3"
  },
  "language_info": {
   "codemirror_mode": {
    "name": "ipython",
    "version": 3
   },
   "file_extension": ".py",
   "mimetype": "text/x-python",
   "name": "python",
   "nbconvert_exporter": "python",
   "pygments_lexer": "ipython3",
   "version": "3.10.14"
  },
  "papermill": {
   "default_parameters": {},
   "duration": 9.717753,
   "end_time": "2024-10-30T01:22:26.511207",
   "environment_variables": {},
   "exception": null,
   "input_path": "__notebook__.ipynb",
   "output_path": "__notebook__.ipynb",
   "parameters": {},
   "start_time": "2024-10-30T01:22:16.793454",
   "version": "2.6.0"
  },
  "widgets": {
   "application/vnd.jupyter.widget-state+json": {
    "state": {
     "0652ff5e70654315bbcde05e6b5a71c7": {
      "model_module": "@jupyter-widgets/controls",
      "model_module_version": "1.5.0",
      "model_name": "ButtonModel",
      "state": {
       "_dom_classes": [],
       "_model_module": "@jupyter-widgets/controls",
       "_model_module_version": "1.5.0",
       "_model_name": "ButtonModel",
       "_view_count": null,
       "_view_module": "@jupyter-widgets/controls",
       "_view_module_version": "1.5.0",
       "_view_name": "ButtonView",
       "button_style": "",
       "description": "Login",
       "disabled": false,
       "icon": "",
       "layout": "IPY_MODEL_6d9af21a184842e39daaa770ded7a315",
       "style": "IPY_MODEL_a5f0c97fa4d146c3908abc17c8de0857",
       "tooltip": ""
      }
     },
     "238fe44004ba4e3bbdb0d1535ffb945a": {
      "model_module": "@jupyter-widgets/base",
      "model_module_version": "1.2.0",
      "model_name": "LayoutModel",
      "state": {
       "_model_module": "@jupyter-widgets/base",
       "_model_module_version": "1.2.0",
       "_model_name": "LayoutModel",
       "_view_count": null,
       "_view_module": "@jupyter-widgets/base",
       "_view_module_version": "1.2.0",
       "_view_name": "LayoutView",
       "align_content": null,
       "align_items": "center",
       "align_self": null,
       "border": null,
       "bottom": null,
       "display": "flex",
       "flex": null,
       "flex_flow": "column",
       "grid_area": null,
       "grid_auto_columns": null,
       "grid_auto_flow": null,
       "grid_auto_rows": null,
       "grid_column": null,
       "grid_gap": null,
       "grid_row": null,
       "grid_template_areas": null,
       "grid_template_columns": null,
       "grid_template_rows": null,
       "height": null,
       "justify_content": null,
       "justify_items": null,
       "left": null,
       "margin": null,
       "max_height": null,
       "max_width": null,
       "min_height": null,
       "min_width": null,
       "object_fit": null,
       "object_position": null,
       "order": null,
       "overflow": null,
       "overflow_x": null,
       "overflow_y": null,
       "padding": null,
       "right": null,
       "top": null,
       "visibility": null,
       "width": "50%"
      }
     },
     "29be139fbac847bfac26ac96fbd594c2": {
      "model_module": "@jupyter-widgets/controls",
      "model_module_version": "1.5.0",
      "model_name": "DescriptionStyleModel",
      "state": {
       "_model_module": "@jupyter-widgets/controls",
       "_model_module_version": "1.5.0",
       "_model_name": "DescriptionStyleModel",
       "_view_count": null,
       "_view_module": "@jupyter-widgets/base",
       "_view_module_version": "1.2.0",
       "_view_name": "StyleView",
       "description_width": ""
      }
     },
     "399f6ace762e45479de546eb26d3767e": {
      "model_module": "@jupyter-widgets/controls",
      "model_module_version": "1.5.0",
      "model_name": "DescriptionStyleModel",
      "state": {
       "_model_module": "@jupyter-widgets/controls",
       "_model_module_version": "1.5.0",
       "_model_name": "DescriptionStyleModel",
       "_view_count": null,
       "_view_module": "@jupyter-widgets/base",
       "_view_module_version": "1.2.0",
       "_view_name": "StyleView",
       "description_width": ""
      }
     },
     "4696907a8ae14f309f3ca4abe9561114": {
      "model_module": "@jupyter-widgets/controls",
      "model_module_version": "1.5.0",
      "model_name": "DescriptionStyleModel",
      "state": {
       "_model_module": "@jupyter-widgets/controls",
       "_model_module_version": "1.5.0",
       "_model_name": "DescriptionStyleModel",
       "_view_count": null,
       "_view_module": "@jupyter-widgets/base",
       "_view_module_version": "1.2.0",
       "_view_name": "StyleView",
       "description_width": ""
      }
     },
     "52fa342aa3b6458f85f0f0ed8c8a2333": {
      "model_module": "@jupyter-widgets/base",
      "model_module_version": "1.2.0",
      "model_name": "LayoutModel",
      "state": {
       "_model_module": "@jupyter-widgets/base",
       "_model_module_version": "1.2.0",
       "_model_name": "LayoutModel",
       "_view_count": null,
       "_view_module": "@jupyter-widgets/base",
       "_view_module_version": "1.2.0",
       "_view_name": "LayoutView",
       "align_content": null,
       "align_items": null,
       "align_self": null,
       "border": null,
       "bottom": null,
       "display": null,
       "flex": null,
       "flex_flow": null,
       "grid_area": null,
       "grid_auto_columns": null,
       "grid_auto_flow": null,
       "grid_auto_rows": null,
       "grid_column": null,
       "grid_gap": null,
       "grid_row": null,
       "grid_template_areas": null,
       "grid_template_columns": null,
       "grid_template_rows": null,
       "height": null,
       "justify_content": null,
       "justify_items": null,
       "left": null,
       "margin": null,
       "max_height": null,
       "max_width": null,
       "min_height": null,
       "min_width": null,
       "object_fit": null,
       "object_position": null,
       "order": null,
       "overflow": null,
       "overflow_x": null,
       "overflow_y": null,
       "padding": null,
       "right": null,
       "top": null,
       "visibility": null,
       "width": null
      }
     },
     "5820d9a1387742468328d441684716c5": {
      "model_module": "@jupyter-widgets/base",
      "model_module_version": "1.2.0",
      "model_name": "LayoutModel",
      "state": {
       "_model_module": "@jupyter-widgets/base",
       "_model_module_version": "1.2.0",
       "_model_name": "LayoutModel",
       "_view_count": null,
       "_view_module": "@jupyter-widgets/base",
       "_view_module_version": "1.2.0",
       "_view_name": "LayoutView",
       "align_content": null,
       "align_items": null,
       "align_self": null,
       "border": null,
       "bottom": null,
       "display": null,
       "flex": null,
       "flex_flow": null,
       "grid_area": null,
       "grid_auto_columns": null,
       "grid_auto_flow": null,
       "grid_auto_rows": null,
       "grid_column": null,
       "grid_gap": null,
       "grid_row": null,
       "grid_template_areas": null,
       "grid_template_columns": null,
       "grid_template_rows": null,
       "height": null,
       "justify_content": null,
       "justify_items": null,
       "left": null,
       "margin": null,
       "max_height": null,
       "max_width": null,
       "min_height": null,
       "min_width": null,
       "object_fit": null,
       "object_position": null,
       "order": null,
       "overflow": null,
       "overflow_x": null,
       "overflow_y": null,
       "padding": null,
       "right": null,
       "top": null,
       "visibility": null,
       "width": null
      }
     },
     "6b5dcc7c80234c36936921da62337d22": {
      "model_module": "@jupyter-widgets/base",
      "model_module_version": "1.2.0",
      "model_name": "LayoutModel",
      "state": {
       "_model_module": "@jupyter-widgets/base",
       "_model_module_version": "1.2.0",
       "_model_name": "LayoutModel",
       "_view_count": null,
       "_view_module": "@jupyter-widgets/base",
       "_view_module_version": "1.2.0",
       "_view_name": "LayoutView",
       "align_content": null,
       "align_items": null,
       "align_self": null,
       "border": null,
       "bottom": null,
       "display": null,
       "flex": null,
       "flex_flow": null,
       "grid_area": null,
       "grid_auto_columns": null,
       "grid_auto_flow": null,
       "grid_auto_rows": null,
       "grid_column": null,
       "grid_gap": null,
       "grid_row": null,
       "grid_template_areas": null,
       "grid_template_columns": null,
       "grid_template_rows": null,
       "height": null,
       "justify_content": null,
       "justify_items": null,
       "left": null,
       "margin": null,
       "max_height": null,
       "max_width": null,
       "min_height": null,
       "min_width": null,
       "object_fit": null,
       "object_position": null,
       "order": null,
       "overflow": null,
       "overflow_x": null,
       "overflow_y": null,
       "padding": null,
       "right": null,
       "top": null,
       "visibility": null,
       "width": null
      }
     },
     "6d9af21a184842e39daaa770ded7a315": {
      "model_module": "@jupyter-widgets/base",
      "model_module_version": "1.2.0",
      "model_name": "LayoutModel",
      "state": {
       "_model_module": "@jupyter-widgets/base",
       "_model_module_version": "1.2.0",
       "_model_name": "LayoutModel",
       "_view_count": null,
       "_view_module": "@jupyter-widgets/base",
       "_view_module_version": "1.2.0",
       "_view_name": "LayoutView",
       "align_content": null,
       "align_items": null,
       "align_self": null,
       "border": null,
       "bottom": null,
       "display": null,
       "flex": null,
       "flex_flow": null,
       "grid_area": null,
       "grid_auto_columns": null,
       "grid_auto_flow": null,
       "grid_auto_rows": null,
       "grid_column": null,
       "grid_gap": null,
       "grid_row": null,
       "grid_template_areas": null,
       "grid_template_columns": null,
       "grid_template_rows": null,
       "height": null,
       "justify_content": null,
       "justify_items": null,
       "left": null,
       "margin": null,
       "max_height": null,
       "max_width": null,
       "min_height": null,
       "min_width": null,
       "object_fit": null,
       "object_position": null,
       "order": null,
       "overflow": null,
       "overflow_x": null,
       "overflow_y": null,
       "padding": null,
       "right": null,
       "top": null,
       "visibility": null,
       "width": null
      }
     },
     "a5ba20f466ad439cbcb2f919b1978274": {
      "model_module": "@jupyter-widgets/controls",
      "model_module_version": "1.5.0",
      "model_name": "PasswordModel",
      "state": {
       "_dom_classes": [],
       "_model_module": "@jupyter-widgets/controls",
       "_model_module_version": "1.5.0",
       "_model_name": "PasswordModel",
       "_view_count": null,
       "_view_module": "@jupyter-widgets/controls",
       "_view_module_version": "1.5.0",
       "_view_name": "PasswordView",
       "continuous_update": true,
       "description": "Token:",
       "description_tooltip": null,
       "disabled": false,
       "layout": "IPY_MODEL_5820d9a1387742468328d441684716c5",
       "placeholder": "​",
       "style": "IPY_MODEL_4696907a8ae14f309f3ca4abe9561114",
       "value": ""
      }
     },
     "a5f0c97fa4d146c3908abc17c8de0857": {
      "model_module": "@jupyter-widgets/controls",
      "model_module_version": "1.5.0",
      "model_name": "ButtonStyleModel",
      "state": {
       "_model_module": "@jupyter-widgets/controls",
       "_model_module_version": "1.5.0",
       "_model_name": "ButtonStyleModel",
       "_view_count": null,
       "_view_module": "@jupyter-widgets/base",
       "_view_module_version": "1.2.0",
       "_view_name": "StyleView",
       "button_color": null,
       "font_weight": ""
      }
     },
     "a7f308a1a1f7487299cdd906aa13b33e": {
      "model_module": "@jupyter-widgets/controls",
      "model_module_version": "1.5.0",
      "model_name": "DescriptionStyleModel",
      "state": {
       "_model_module": "@jupyter-widgets/controls",
       "_model_module_version": "1.5.0",
       "_model_name": "DescriptionStyleModel",
       "_view_count": null,
       "_view_module": "@jupyter-widgets/base",
       "_view_module_version": "1.2.0",
       "_view_name": "StyleView",
       "description_width": ""
      }
     },
     "b297ba4ccac9449ab299b9ab51148744": {
      "model_module": "@jupyter-widgets/base",
      "model_module_version": "1.2.0",
      "model_name": "LayoutModel",
      "state": {
       "_model_module": "@jupyter-widgets/base",
       "_model_module_version": "1.2.0",
       "_model_name": "LayoutModel",
       "_view_count": null,
       "_view_module": "@jupyter-widgets/base",
       "_view_module_version": "1.2.0",
       "_view_name": "LayoutView",
       "align_content": null,
       "align_items": null,
       "align_self": null,
       "border": null,
       "bottom": null,
       "display": null,
       "flex": null,
       "flex_flow": null,
       "grid_area": null,
       "grid_auto_columns": null,
       "grid_auto_flow": null,
       "grid_auto_rows": null,
       "grid_column": null,
       "grid_gap": null,
       "grid_row": null,
       "grid_template_areas": null,
       "grid_template_columns": null,
       "grid_template_rows": null,
       "height": null,
       "justify_content": null,
       "justify_items": null,
       "left": null,
       "margin": null,
       "max_height": null,
       "max_width": null,
       "min_height": null,
       "min_width": null,
       "object_fit": null,
       "object_position": null,
       "order": null,
       "overflow": null,
       "overflow_x": null,
       "overflow_y": null,
       "padding": null,
       "right": null,
       "top": null,
       "visibility": null,
       "width": null
      }
     },
     "b5a5bd40a2974e2a9698ed3830a0805c": {
      "model_module": "@jupyter-widgets/controls",
      "model_module_version": "1.5.0",
      "model_name": "TextModel",
      "state": {
       "_dom_classes": [],
       "_model_module": "@jupyter-widgets/controls",
       "_model_module_version": "1.5.0",
       "_model_name": "TextModel",
       "_view_count": null,
       "_view_module": "@jupyter-widgets/controls",
       "_view_module_version": "1.5.0",
       "_view_name": "TextView",
       "continuous_update": true,
       "description": "Username:",
       "description_tooltip": null,
       "disabled": false,
       "layout": "IPY_MODEL_6b5dcc7c80234c36936921da62337d22",
       "placeholder": "​",
       "style": "IPY_MODEL_29be139fbac847bfac26ac96fbd594c2",
       "value": ""
      }
     },
     "bb1dedec9a3540d6a9281bda4b51b13a": {
      "model_module": "@jupyter-widgets/controls",
      "model_module_version": "1.5.0",
      "model_name": "HTMLModel",
      "state": {
       "_dom_classes": [],
       "_model_module": "@jupyter-widgets/controls",
       "_model_module_version": "1.5.0",
       "_model_name": "HTMLModel",
       "_view_count": null,
       "_view_module": "@jupyter-widgets/controls",
       "_view_module_version": "1.5.0",
       "_view_name": "HTMLView",
       "description": "",
       "description_tooltip": null,
       "layout": "IPY_MODEL_52fa342aa3b6458f85f0f0ed8c8a2333",
       "placeholder": "​",
       "style": "IPY_MODEL_399f6ace762e45479de546eb26d3767e",
       "value": "<center> <img\nsrc=https://www.kaggle.com/static/images/site-logo.png\nalt='Kaggle'> <br> Create an API token from <a\nhref=\"https://www.kaggle.com/settings/account\" target=\"_blank\">your Kaggle\nsettings page</a> and paste it below along with your Kaggle username. <br> </center>"
      }
     },
     "d9d81badf7b247ebb554258597b0ce50": {
      "model_module": "@jupyter-widgets/controls",
      "model_module_version": "1.5.0",
      "model_name": "VBoxModel",
      "state": {
       "_dom_classes": [],
       "_model_module": "@jupyter-widgets/controls",
       "_model_module_version": "1.5.0",
       "_model_name": "VBoxModel",
       "_view_count": null,
       "_view_module": "@jupyter-widgets/controls",
       "_view_module_version": "1.5.0",
       "_view_name": "VBoxView",
       "box_style": "",
       "children": [
        "IPY_MODEL_bb1dedec9a3540d6a9281bda4b51b13a",
        "IPY_MODEL_b5a5bd40a2974e2a9698ed3830a0805c",
        "IPY_MODEL_a5ba20f466ad439cbcb2f919b1978274",
        "IPY_MODEL_0652ff5e70654315bbcde05e6b5a71c7",
        "IPY_MODEL_e68bfe7ec2ff4d919aac6e630ddd3bf5"
       ],
       "layout": "IPY_MODEL_238fe44004ba4e3bbdb0d1535ffb945a"
      }
     },
     "e68bfe7ec2ff4d919aac6e630ddd3bf5": {
      "model_module": "@jupyter-widgets/controls",
      "model_module_version": "1.5.0",
      "model_name": "HTMLModel",
      "state": {
       "_dom_classes": [],
       "_model_module": "@jupyter-widgets/controls",
       "_model_module_version": "1.5.0",
       "_model_name": "HTMLModel",
       "_view_count": null,
       "_view_module": "@jupyter-widgets/controls",
       "_view_module_version": "1.5.0",
       "_view_name": "HTMLView",
       "description": "",
       "description_tooltip": null,
       "layout": "IPY_MODEL_b297ba4ccac9449ab299b9ab51148744",
       "placeholder": "​",
       "style": "IPY_MODEL_a7f308a1a1f7487299cdd906aa13b33e",
       "value": "\n<b>Thank You</b></center>"
      }
     }
    },
    "version_major": 2,
    "version_minor": 0
   }
  }
 },
 "nbformat": 4,
 "nbformat_minor": 5
}
